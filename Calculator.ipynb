{
 "cells": [
  {
   "cell_type": "code",
   "execution_count": 1,
   "metadata": {},
   "outputs": [],
   "source": [
    "def index_of_op(input):\n",
    "    if input[0] != '-' and len(op) <= 2:\n",
    "        return input.index(op[0])\n",
    "    elif input[0] == '-' and len(op) <= 2:\n",
    "        return [i for i,j in enumerate(input) if j in op][1]-1\n",
    "    \n",
    "    else:\n",
    "        return [i for i,j in enumerate(input) if j in op][1]-1"
   ]
  },
  {
   "cell_type": "code",
   "execution_count": 2,
   "metadata": {
    "collapsed": true
   },
   "outputs": [],
   "source": [
    "def whoiswho(a):\n",
    "\n",
    "     for i in range(len(a)):\n",
    "        if a[i].isdigit():\n",
    "            numbers.append(a[i])\n",
    "        else:\n",
    "            op.append(a[i])\n",
    "                   \n",
    "\n",
    "    \n",
    "    \n",
    "        "
   ]
  },
  {
   "cell_type": "code",
   "execution_count": 9,
   "metadata": {},
   "outputs": [],
   "source": [
    "def calculation(func):\n",
    "    if '+' in func:\n",
    "            return float(func[0])+float(func[2])\n",
    "    elif '-' in func:\n",
    "            return float(func[0])-float(func[2])\n",
    "    elif '*' in func:\n",
    "            return float(func[0])*int(func[2])\n",
    "    elif '/' in func:\n",
    "            return float(func[0])/int(func[2])"
   ]
  },
  {
   "cell_type": "code",
   "execution_count": 10,
   "metadata": {},
   "outputs": [],
   "source": [
    "def assembly(input):\n",
    "    first = numbers[:(index_of_op(input))]\n",
    "    second = numbers[(index_of_op(input)):]\n",
    "    if len(op) == 1:\n",
    "        firstnum = int(''.join(first))\n",
    "        secondnum = int(''.join(second))\n",
    "        equation = [firstnum,op[0],secondnum]\n",
    "        return equation\n",
    "    elif input[0] != '-' and len(op) <= 2:\n",
    "        firstnum = int(''.join(first))\n",
    "        secondnum = int(''.join(second))*-1\n",
    "        equation = [firstnum,op[0],secondnum]\n",
    "        return equation\n",
    "    elif input[0] == '-' and len(op) <= 2:\n",
    "        firstnum = int(''.join(first))*-1\n",
    "        secondnum = int(''.join(second))\n",
    "        equation = [firstnum,op[1],secondnum]\n",
    "        return equation \n",
    "    else:\n",
    "        firstnum = int(''.join(first))*-1\n",
    "        secondnum = int(''.join(second))*-1\n",
    "        equation = [firstnum,op[1],secondnum]\n",
    "        return equation "
   ]
  },
 
  {
   "cell_type": "code",
   "execution_count": null,
   "metadata": {
    "collapsed": true
   },
   "outputs": [],
   "source": []
  }
 ],
 "metadata": {
  "kernelspec": {
   "display_name": "Python 2",
   "language": "python",
   "name": "python2"
  },
  "language_info": {
   "codemirror_mode": {
    "name": "ipython",
    "version": 2
   },
   "file_extension": ".py",
   "mimetype": "text/x-python",
   "name": "python",
   "nbconvert_exporter": "python",
   "pygments_lexer": "ipython2",
   "version": "2.7.13"
  }
 },
 "nbformat": 4,
 "nbformat_minor": 2
}
